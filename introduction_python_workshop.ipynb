{
 "cells": [
  {
   "cell_type": "markdown",
   "metadata": {},
   "source": [
    "# <font color=green> Global Warming Science</font>\n",
    "#### https://courses.seas.harvard.edu/climate/eli/Courses/EPS101/\n",
    "\n",
    "XX"
   ]
  },
  {
   "cell_type": "markdown",
   "metadata": {},
   "source": [
    "# Introducing python! and other prerequisites\n",
    "\n",
    "### <font color=red> Please use the template below to answer the workshop questions. \"XX\" indicates places where you need to complete/write code or add a discussion.</font>\n",
    "\n",
    "## Exercise: double-click the text in the cell above to open it, add your name as a subtitle above using two hashtags instead of the XX, shift-enter to recompile.\n",
    "</font>\n",
    "\n",
    "## First, import needed libraries, introducing \"name spaces\":"
   ]
  },
  {
   "cell_type": "code",
   "execution_count": null,
   "metadata": {},
   "outputs": [],
   "source": [
    "# This is a code cell. you need to place the cursor in it, and press shift-enter to run it. \n",
    "# *Do the same for all code and documentation (markdown) cells below*\n",
    "\n",
    "import numpy as np               # A library for all numerical caclulations\n",
    "import matplotlib.pyplot as plt  # for plotting\n",
    "import pickle                    # for extracting stored variables\n",
    "\n",
    "print('I just ran my first Jupyter notebook cell!')"
   ]
  },
  {
   "cell_type": "markdown",
   "metadata": {},
   "source": [
    "## <font color=\"red\">  Exercise: printing</font>\n",
    "set a variable:\n",
    "\n",
    "myname='XX your name here'\n",
    "    \n",
    "print(\"my name is \",myname)\n",
    "</font>"
   ]
  },
  {
   "cell_type": "code",
   "execution_count": null,
   "metadata": {},
   "outputs": [],
   "source": [
    "# insert your code below this line; note that these two lines are a comment in a \n",
    "# code cell (they starts with #)\n",
    "\n",
    "XX"
   ]
  },
  {
   "cell_type": "raw",
   "metadata": {},
   "source": []
  },
  {
   "cell_type": "markdown",
   "metadata": {},
   "source": [
    "### <font color=\"red\">Exercise: creating a markdown cell with an equation.</font>\n",
    "add a cell below this point by clicking + on the menu bar;\n",
    "    \n",
    "change the cell type to markdown\n",
    "    \n",
    "insert a title using hashtag(s)\n",
    "    \n",
    "insert an equation, e.g., $E=mc^2$\n",
    "    \n",
    "change the color of the equation only to blue, with everything else in green\n",
    "    \n",
    "run the cell.\n",
    "\n",
    "XX insert new markdown cell below this point."
   ]
  },
  {
   "cell_type": "markdown",
   "metadata": {},
   "source": [
    "## A for loop: reading a time series data and printing the data values"
   ]
  },
  {
   "cell_type": "code",
   "execution_count": null,
   "metadata": {},
   "outputs": [],
   "source": [
    "# load data:\n",
    "# ----------\n",
    "# load the PDI data from a pickle file to variables\n",
    "with open('./introduction_python_variables.pickle', 'rb') as file:\n",
    "        d = pickle.load(file)\n",
    "        # print information about each extracted variable:\n",
    "        for key in list(d.keys()):\n",
    "            print(\"extracting pickled variable: name=\", key, \"; type=\",type(d[key]), \"; size=\", d[key].shape)\n",
    "        globals().update(d)\n",
    "\n",
    "print(\"The dimensions of the input temperature data are:\",T.shape)\n",
    "# note that T is an array with two columns, one for years and one for temperature\n",
    "\n",
    "# print data for a few years using a for loop:\n",
    "print(\"\\n year  , Temperature\")\n",
    "for i in range(0,10):\n",
    "    print(T[i,0],\",\",T[i,1])\n",
    "# note that the for loop is indicated by the indentation \n",
    "# block, in the above case only a single line is in the loop.\n",
    "\n",
    "# as another example of a for loop, calculate the mean tempearature using a for loop:\n",
    "N=len(T[:,0])\n",
    "Tavg=0\n",
    "for i in range(0,N):\n",
    "    Tavg=Tavg+T[i,1]\n",
    "\n",
    "Tavg=Tavg/N\n",
    "\n",
    "print(\"\\naveraged temperature is\",Tavg)\n",
    "# note that the average is basically zero, as the temperature record is an anomaly from the mean.\n",
    "\n",
    "# calculate the mean using a numpy function:\n",
    "Tavg_numpy=np.mean(T[:,1])\n",
    "print(\"averaged temperature calculated by numpy function is\",Tavg_numpy)"
   ]
  },
  {
   "cell_type": "markdown",
   "metadata": {},
   "source": [
    "## <font color=\"red\"> Exercise: for loop: </font>\n",
    "    \n",
    "<font color=\"red\"> write a loop that sums the numbers from 1 to 2020\n",
    "</font>"
   ]
  },
  {
   "cell_type": "code",
   "execution_count": null,
   "metadata": {},
   "outputs": [],
   "source": [
    "# code here:\n",
    "\n",
    "XX"
   ]
  },
  {
   "cell_type": "markdown",
   "metadata": {},
   "source": [
    "## Plot the timeseries data:"
   ]
  },
  {
   "cell_type": "code",
   "execution_count": null,
   "metadata": {},
   "outputs": [],
   "source": [
    "# plot it:\n",
    "# --------\n",
    "fig1= plt.figure(1,dpi=300)\n",
    "# python array indices are in square brackets and start from zero:\n",
    "plt.plot(T[:,0],T[:,1],color=\"b\")\n",
    "plt.xlabel(\"Year\")\n",
    "plt.ylabel(\"Temperature (C)\")\n",
    "plt.title(\"observed Temperature record\");"
   ]
  },
  {
   "cell_type": "markdown",
   "metadata": {},
   "source": [
    "## <font color=\"red\"> Exercise: line plot</font>\n",
    " <font color=\"red\"> \n",
    "     plot $y(x)=\\sin(x)$ for $x=-\\pi$ to $\\pi$.\n",
    "   Hints: create an $x$ array (vector) using x=np.arange(-1,1.1,0.1), pi is given by np.pi, sine is given by np.sin()\n",
    "</font>"
   ]
  },
  {
   "cell_type": "code",
   "execution_count": null,
   "metadata": {},
   "outputs": [],
   "source": [
    "# code here:\n",
    "\n",
    "XX"
   ]
  },
  {
   "cell_type": "markdown",
   "metadata": {},
   "source": [
    "## An if statement:"
   ]
  },
  {
   "cell_type": "code",
   "execution_count": null,
   "metadata": {},
   "outputs": [],
   "source": [
    "# first a simple if statement, note again use of indentation to define end of statement:\n",
    "if 2>1:\n",
    "    print(\"yes, 2>1\")\n",
    "else:\n",
    "    print(\"this will never be printed\")\n",
    "\n",
    "\n",
    "# find the warmest year using a combination of a loop and an if statement:\n",
    "Tmax=-100\n",
    "year_max=-100\n",
    "# note the indentations denoting the blocks of the for loop and if statement:\n",
    "for i in range(0,N):  # for loop starts here\n",
    "    if T[i,1]>Tmax:   # if statement starts here\n",
    "        Tmax=T[i,1]\n",
    "        year_max=T[i,0] # this is the last line of both the for loop and the if statement\n",
    "\n",
    "# note how the last element of the array may be referred to via a -1 index:\n",
    "print(\"The first and last years are\",T[0,0],T[-1,0])\n",
    "print(\"The maximum temperature is\", Tmax,\", and it occured in year\",year_max)"
   ]
  },
  {
   "cell_type": "markdown",
   "metadata": {},
   "source": [
    "## <font color='red'> Exercise: for and if</font>\n",
    "    \n",
    "<font color='red'>write a for loop to calculate the root mean square of the temperature record using the formula \n",
    "$$ rms(T)=\\sqrt{\\frac1N\\sum_i T_i^2}$$\n",
    "and then use an if statement to test if the rms is larger than the difference between the temperature at the end and the temperature at the beginning of the series, and print an appropriate message within the if statement:\n",
    "\n",
    "if $rms(T)>(T_{last}-T_{first})$ <br>\n",
    "&nbsp;&nbsp;&nbsp;   print a message that the rms is larger than the difference<br>\n",
    "else<br>\n",
    "&nbsp;&nbsp;&nbsp;   print a message that the rms is smaller<br>\n",
    "</font>"
   ]
  },
  {
   "cell_type": "code",
   "execution_count": null,
   "metadata": {},
   "outputs": [],
   "source": [
    "# insert your code below:\n",
    "\n",
    "N=len(T[:,1])\n",
    "myrms=0.0\n",
    "for i in XX:\n",
    "    myrms=myrms+XX\n",
    "myrms=np.sqrt(myrms/N)\n",
    "\n",
    "if XX:\n",
    "    print XX\n",
    "else:\n",
    "    print XX\n"
   ]
  },
  {
   "cell_type": "markdown",
   "metadata": {},
   "source": [
    "## Plotting two time series on the same axes using 2 $y$-axes"
   ]
  },
  {
   "cell_type": "code",
   "execution_count": null,
   "metadata": {},
   "outputs": [],
   "source": [
    "fig, ax1 = plt.subplots()\n",
    "\n",
    "color = 'tab:red'\n",
    "ax1.set_xlabel('year')\n",
    "ax1.set_ylabel('CO$_2$', color=color)\n",
    "ax1.plot(CO2[:,0], CO2[:,1], color=color)\n",
    "ax1.tick_params(axis='y', labelcolor=color)\n",
    "\n",
    "ax2 = ax1.twinx()  # instantiate a second axes that shares the same x-axis\n",
    "color = 'tab:blue'\n",
    "ax2.set_ylabel('Temperature', color=color)  # we already handled the x-label with ax1\n",
    "ax2.plot(T[:,0],T[:,1], color=color)\n",
    "ax2.tick_params(axis='y', labelcolor=color)\n",
    "\n",
    "fig.tight_layout()  # otherwise the right y-label is slightly clipped\n",
    "plt.show()\n"
   ]
  },
  {
   "cell_type": "markdown",
   "metadata": {},
   "source": [
    "# <font color=\"red\">Exercise: Plotting two time series on the same axes using 2 $y$-axes<>/font\n",
    "\n",
    "insert a code cell below this point, and plot sine(x) and 5cos(x) from $x=0$ to $x=2\\pi$\n",
    "\n",
    "XX insert a code cell below this point."
   ]
  },
  {
   "cell_type": "markdown",
   "metadata": {
    "tags": []
   },
   "source": [
    "## Getting help from chatGPT\n",
    "\n",
    "#### (a) Provide the following instruction to chatGPT, copy paste the resulting code into a new code cell below, test the code and adjust it as needed to make it work.\n",
    "\n",
    "XX\n",
    "\n",
    "write a python code to create two numpy arrays with x going from -pi to +pi and y=3*exp(-x)*cos(x). plot y as a function of x using matplotlib. save the result to a pdf file named myfigureoutput.pdf."
   ]
  },
  {
   "cell_type": "markdown",
   "metadata": {},
   "source": [
    "#### (b) Ask chatGPT to correct the following buggy code, replace the code with the corrected one and make sure it runs."
   ]
  },
  {
   "cell_type": "code",
   "execution_count": null,
   "metadata": {},
   "outputs": [],
   "source": [
    "import numpy as np\n",
    "import matplotlib.pyplot as plt\n",
    "\n",
    "# XX\n",
    "\n",
    "x=np.arange(-2*pi,pi,0.1)\n",
    "f=cos(x)\n",
    "plt.figure(1)\n",
    "plt.clf()\n",
    "plt.plot(x,f)\n",
    "# always label axes and provide titles:\n",
    "plt.xlabel('x')\n",
    "plt.ylable(\"f')\n",
    "plt.title('f(x)=cos(3x)')\n",
    "plt.show()"
   ]
  },
  {
   "cell_type": "markdown",
   "metadata": {},
   "source": [
    "## Using a built-in python function to calculate correlation"
   ]
  },
  {
   "cell_type": "code",
   "execution_count": null,
   "metadata": {},
   "outputs": [],
   "source": [
    "# remove mean from each time series using np.mean():\n",
    "X=T[:,1]-XX\n",
    "Y=CO2[:,1]-XX\n",
    "\n",
    "R=np.corrcoef(X,Y)\n",
    "\n",
    "print(\"correlation calculated by np.corrcoef is:\\n\",R)"
   ]
  },
  {
   "cell_type": "markdown",
   "metadata": {},
   "source": [
    "## Writing a python function that calculates correlation\n",
    "\n",
    "using the formula:\n",
    "$R=\\frac{\\sum X_iY_i}{\\sqrt{\\sum X_i^2}\\sqrt{\\sum Y_i^2}}$\n",
    "\n",
    "(note how the documentation cells can include equations!)"
   ]
  },
  {
   "cell_type": "code",
   "execution_count": null,
   "metadata": {},
   "outputs": [],
   "source": [
    "# here is how one defines a function:\n",
    "def my_calc_correlation(X,Y):\n",
    "    A=0\n",
    "    B=0\n",
    "    C=0\n",
    "    for i in range(0,len(X)):\n",
    "        A=A+X[i]*Y[i]\n",
    "        B=B+X[i]*X[i]\n",
    "        C=C+Y[i]*Y[i]\n",
    "    R=A/(np.sqrt(B)*np.sqrt(C))\n",
    "    return R\n",
    "\n",
    "# and now we can use this function as follows \n",
    "# (we use the fact that the mean has been renoved from X,Y)\n",
    "my_R=my_calc_correlation(X,Y)\n",
    "print(\"correlation calculated by my function is:\\n\",my_R)"
   ]
  },
  {
   "cell_type": "markdown",
   "metadata": {},
   "source": [
    "## <font color='red'> Exercise: writing a function and plotting</font>\n",
    "    \n",
    "<font color='red'>write a function that takes a time series $T_i$ and produces a smoothed version\n",
    "$$ \\overline{T}_i=0.25T_{i-1}+0.5T_{i}+0.25T_{i+1}$$\n",
    "and then plot the two on the same axes (no need to add a second vertical axis in this case). Note that you cannot calculate the smoothed version for the first and last points, and the smoothed time series therefore has 2 less points than the original one.\n",
    "</font>"
   ]
  },
  {
   "cell_type": "code",
   "execution_count": null,
   "metadata": {},
   "outputs": [],
   "source": [
    "# insert your code here\n",
    "\n",
    "def smooth_timeseries(d):\n",
    "    d_smooth=np.zeros(len(d))\n",
    "    for i in XX:\n",
    "        d_smooth[i]=XX\n",
    "    return d_smooth[1:(len(d)-1)] # return only the interior points\n",
    "    \n",
    "T_smooth=smooth_timeseries(XX)\n",
    "time_axis=XX # take only interior points of time axis too, for plotting\n",
    "\n",
    "# plot it:\n",
    "# --------\n",
    "fig1= plt.figure()\n",
    "# python array indices are in square brackets and start from zero:\n",
    "plt.plot(XX) # plot original time series\n",
    "plt.plot(XX) # plot smoothed one\n",
    "plt.xlabel(XX)\n",
    "plt.ylabel(XX)\n",
    "plt.title(XX);\n"
   ]
  },
  {
   "cell_type": "markdown",
   "metadata": {},
   "source": [
    "## Other python data types:\n",
    "\n",
    "We already covered numpy arrays, other important data types are:\n",
    "* lists\n",
    "* dictionaries\n",
    "* tuples"
   ]
  },
  {
   "cell_type": "code",
   "execution_count": null,
   "metadata": {},
   "outputs": [],
   "source": [
    "# create a list with the two data sets combined\n",
    "# an empty list:\n",
    "my_data_list=[]\n",
    "my_data_list.append(T)\n",
    "my_data_list.append(CO2)\n",
    "print(\"length of list is:\",len(my_data_list))\n",
    "print(\"the type of the first element of the list (that is, the zeroth index) is:\",type(my_data_list[0]))\n",
    "print(\"shape of first element of the list is:\",my_data_list[0].shape)\n",
    "print(\"the [4:8,1] values from the first element of the list is:\",my_data_list[0][4:8,1])"
   ]
  },
  {
   "cell_type": "code",
   "execution_count": null,
   "metadata": {},
   "outputs": [],
   "source": [
    "# create a dictionary with the two data sets combined\n",
    "# an empty dictionary:\n",
    "my_data_dict={}\n",
    "my_data_dict[\"Temperature\"]=T\n",
    "my_data_dict[\"Carbon-dioxide\"]=CO2\n",
    "\n",
    "print(\"keys in dictionary are:\",my_data_dict.keys())\n",
    "print(\"the first few elements of the first data set are:\",my_data_dict[\"Temperature\"][0:5,0:2])"
   ]
  },
  {
   "cell_type": "markdown",
   "metadata": {},
   "source": [
    "## <font color='red'> Exercise: creating tuples and dictionaries</font>\n",
    "    \n",
    "<font color='red'>create a dictionary with two lists. one is the first 7 letters of the alphabet (as strings) with the key being the string 'letters'; the other the digits from 0 to 9 (as numbers), with the key being the string 'numbers'.\n",
    "    \n",
    "<font color='red'>then print the keys of the dictionary \n",
    "    \n",
    "<font color='red'>print the 2nd-6th elements (where the 1st element is zero-indexed) of the first list in the dictionary.\n",
    "    \n",
    "<font color='red'>write a code to sum the 3rd-8th elements in the second list and print the result\n",
    "</font>"
   ]
  },
  {
   "cell_type": "code",
   "execution_count": null,
   "metadata": {},
   "outputs": [],
   "source": [
    "# Code here:\n",
    "\n",
    "XX"
   ]
  },
  {
   "cell_type": "markdown",
   "metadata": {},
   "source": [
    "# some tricky stuff\n",
    "\n",
    "### (1) Ranges in python do not include the last element!\n",
    "Note that in the last example, when we specify a range to be 0:5,0:2, the printed output is a 5X2 rather than a 6X3 as one might expect. This is part of the python specification, as demonstrated by the following loop:"
   ]
  },
  {
   "cell_type": "code",
   "execution_count": null,
   "metadata": {},
   "outputs": [],
   "source": [
    "for i in range(2,6,1):\n",
    "    print(i)"
   ]
  },
  {
   "cell_type": "markdown",
   "metadata": {},
   "source": [
    "### (2) Making a copy of a python variable without getting in trouble:\n",
    "An assignment like\n",
    "B=A does not create a new variable B whose value is equal to that of A, but creates a pointer to A. This can lead to troube. Here are the details."
   ]
  },
  {
   "cell_type": "code",
   "execution_count": null,
   "metadata": {},
   "outputs": [],
   "source": [
    "# consider an arrays,\n",
    "A=np.array([2,3,4])\n",
    "print(\"A=\",A)\n",
    "print(\"now set B using B=A:\")\n",
    "B=A\n",
    "print(\"A=\",A,\",B=\",B)\n",
    "print(\"changing B using B[1]=17:\")\n",
    "B[1]=17\n",
    "print(\"changes also A:\")\n",
    "print(\"A=\",A,\",B=\",B)\n",
    "\n",
    "# in order to avoid this, create B using, for example:\n",
    "B=A*1"
   ]
  },
  {
   "cell_type": "markdown",
   "metadata": {},
   "source": [
    "### <font color='red'> Exercise: using ranges and making copy of variables</font>\n",
    "    \n",
    "<font color='red'>(A) write a for loop that prints the numbers in the range -2 to 8<br>\n",
    "    (B) duplicate the above example, replacing B=A with B=A*1 and verify that this creates an independent array that is not modified when A is.\n",
    "</font>"
   ]
  },
  {
   "cell_type": "code",
   "execution_count": null,
   "metadata": {},
   "outputs": [],
   "source": [
    "# insert your code here\n",
    "\n",
    "XX"
   ]
  },
  {
   "cell_type": "markdown",
   "metadata": {
    "jp-MarkdownHeadingCollapsed": true
   },
   "source": [
    "## <font color='red'> Mathematical preliminaries</font>\n",
    "\n",
    "Be sure you are comfortable solving these, as this material will be used during the semester.\n",
    "\n",
    "(1) what is the derivative with respect to $t$ of \n",
    "\n",
    "(1a) $Ae^{\\alpha t}$,\n",
    "    \n",
    "(1b) $A\\sin(bt)$,\n",
    "    \n",
    "(2) Calculate the integral $\\int_0^1 \\cos(2t)$\n",
    "\n",
    "(3) what is the solution to each of the two following basic differential equation problems,\n",
    "\\begin{align*}\n",
    "  \\frac{dx}{dt}&=\\alpha x,\\quad \\text{with } x(0)=-3\\\\\n",
    "  \\frac{d^2x}{dt^2}&=-\\omega^2 x,\\quad \\text{with } x(0)=-3, \\text{ and } \\frac{dx(0)}{dt}=0\n",
    "\\end{align*}</font>"
   ]
  },
  {
   "cell_type": "markdown",
   "metadata": {},
   "source": [
    "## Your solution here:\n",
    "\n",
    "1a XX\n",
    "\n",
    "1b XX\n",
    "\n",
    "2 XX\n",
    "\n",
    "3 XX"
   ]
  },
  {
   "cell_type": "markdown",
   "metadata": {},
   "source": [
    "<font color=\"blue\">\n",
    "\n",
    "### How to download a Jupyter notebook as a PDF:\n",
    "In JupyterHub, go to File ->  Save and Export Notebook As... -> PDF\n",
    "\n",
    "### Before downloading and submitting Jupyter notebook:\n",
    "With the notebook active in JupyterHub go to Kernel -> \"Restart Kernel\" and \"Run All Cells.\" This ensures that the code output is up-to-date with what you have written in each cell."
   ]
  },
  {
   "cell_type": "markdown",
   "metadata": {},
   "source": [
    "# <font color=green> Writing assignment for first class: </font>\n",
    "## Due next week with this Jupyter notebook, see guidelines in \n",
    "https://courses.seas.harvard.edu/climate/eli/Courses/EPS101/Sources/Introduction/1st-class-writing-assignment.pdf"
   ]
  }
 ],
 "metadata": {
  "kernelspec": {
   "display_name": "Python 3 (ipykernel)",
   "language": "python",
   "name": "python3"
  },
  "language_info": {
   "codemirror_mode": {
    "name": "ipython",
    "version": 3
   },
   "file_extension": ".py",
   "mimetype": "text/x-python",
   "name": "python",
   "nbconvert_exporter": "python",
   "pygments_lexer": "ipython3",
   "version": "3.12.2"
  }
 },
 "nbformat": 4,
 "nbformat_minor": 4
}
