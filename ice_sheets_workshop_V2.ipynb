{
  "cells": [
    {
      "cell_type": "markdown",
      "metadata": {
        "id": "view-in-github",
        "colab_type": "text"
      },
      "source": [
        "<a href=\"https://colab.research.google.com/github/gagnagaman/Tziperman/blob/main/ice_sheets_workshop_V2.ipynb\" target=\"_parent\"><img src=\"https://colab.research.google.com/assets/colab-badge.svg\" alt=\"Open In Colab\"/></a>"
      ]
    },
    {
      "cell_type": "markdown",
      "metadata": {
        "id": "4ZMtdYNtbJEy"
      },
      "source": [
        "# <font color=green> Global Warming Science</font>\n",
        "#### https://courses.seas.harvard.edu/climate/eli/Courses/EPS101/"
      ]
    },
    {
      "cell_type": "markdown",
      "metadata": {
        "id": "fp4lzvoDbJEz"
      },
      "source": [
        "# Ice sheets!\n",
        "\n",
        "### <font color=red> Please use the template below to answer the workshop questions. \"XX\" indicates places where you need to complete/write code or add a discussion.</font>\n",
        "\n",
        "## your name:"
      ]
    },
    {
      "cell_type": "code",
      "execution_count": null,
      "metadata": {
        "id": "cUyEhJRHbJE0"
      },
      "outputs": [],
      "source": [
        "# import needed libraries and load data:\n",
        "import numpy as np\n",
        "import pickle\n",
        "import matplotlib.pyplot as plt\n",
        "from matplotlib import ticker, cm, colors\n",
        "import cartopy.crs as ccrs\n",
        "import cartopy.feature as cfeature\n",
        "from cartopy.feature import NaturalEarthFeature\n",
        "from cartopy import config\n",
        "from mpl_toolkits.axes_grid1 import make_axes_locatable\n",
        "\n",
        "\n",
        "url = 'https://github.com/gagnagaman/Tziperman/blob/main/mountain_glaciers_variables.pickle'\n",
        "response = requests.get(url)\n",
        "response.raise_for_status()  # Raise an exception for bad status codes (4xx or 5xx)\n",
        "\n",
        "# Load the pickle data from the downloaded content\n",
        "d = pickle.loads(response.content)\n",
        "# load variables from a pickle file:\n",
        "with open('./ice_sheets_variables.pickle', 'rb') as file:\n",
        "        d = pickle.load(file)\n",
        "        # print information about each extracted variable:\n",
        "        for key in list(d.keys()):\n",
        "            print(\"extracting pickled variable: name=\", key, \"; size=\", d[key].shape)\n",
        "            #print(\"; type=\",type(d[key]))\n",
        "        globals().update(d)"
      ]
    },
    {
      "cell_type": "markdown",
      "metadata": {
        "id": "FQpeU1i5bJE0"
      },
      "source": [
        "### Explanation of input variables:\n",
        "\n",
        "AIS=Antarctic ice sheet; GIS=Greenland ice sheet\n",
        "\n",
        "\n",
        "**observed SMB from GRACE gravity sattelite:**\n",
        "AIS_GRACE_SMB,\n",
        "AIS_GRACE_years\n",
        "\n",
        "GIS_GRACE_SMB,\n",
        "GIS_GRACE_years\n",
        "\n",
        "\n",
        "**Antarctica SMB time series and map:**\n",
        "\n",
        "AIS_evap_timeseries_annual_avg,\n",
        "AIS_evap_timeseries_annual_std,\n",
        "AIS_net_SMB_timeseries_annual_avg,\n",
        "AIS_net_SMB_timeseries_annual_std\n",
        "\n",
        "AIS_net_SMB_map,\n",
        "AIS_net_SMB_map_lat,\n",
        "AIS_net_SMB_map_lon\n",
        "\n",
        "**Greenland SMB time series and map:**\n",
        "\n",
        "GIS_evap_timeseries_annual_avg,\n",
        "GIS_evap_timeseries_annual_std,\n",
        "GIS_net_SMB_timeseries_annual_avg,\n",
        "GIS_net_SMB_timeseries_annual_std\n",
        "\n",
        "GIS_net_SMB_map,\n",
        "GIS_net_SMB_map_lat,\n",
        "GIS_net_SMB_map_lon\n",
        "\n",
        "**Surface air temperature data as a function of day of year, lat, lon and the corresponding axes:**\n",
        "\n",
        "SAT_control,\n",
        "SAT_rcp85\n",
        "\n",
        "SAT_lat,\n",
        "SAT_lon,\n",
        "SAT_time\n",
        "\n",
        "SMB time axis:\n",
        "SMB_timeseries_annual_years\n",
        "\n",
        "**land masks:**\n",
        "\n",
        "landice_antarctica_mask_control,\n",
        "landice_antarctica_mask_rcp85,\n",
        "landice_greenland_mask_control,\n",
        "landice_greenland_mask_rcp85\n",
        "\n",
        "**lon/lat axes: one over the relevant land ice sheet, zero elsewhere**\n",
        "\n",
        "landice_lat,\n",
        "landice_lon"
      ]
    },
    {
      "cell_type": "markdown",
      "metadata": {
        "id": "lXXtEW-sbJE1"
      },
      "source": [
        "## 1) Ice stream acceleration:\n",
        "\n",
        "By what factor should ice streams in Greenland accelerate now in order to contribute a 1.5 m sea level rise by 2100."
      ]
    },
    {
      "cell_type": "markdown",
      "metadata": {
        "id": "TwtlkeurbJE1"
      },
      "source": [
        "1.5 m of sea level rise corresponds to\n",
        "$\\rho_{water} 70\\%\\cdot (4\\pi R_e^2)\\cdot 1.5$ of mass loss (70% comes from the percentage area on Earth covered by ocean, and $R_e$ is the radius of the Earth).\n",
        "$$$$"
      ]
    },
    {
      "cell_type": "code",
      "execution_count": null,
      "metadata": {
        "id": "nGAM3BsNbJE1"
      },
      "outputs": [],
      "source": [
        "# first, calculate how many Gt ice correspond to the specified sea level rise\n",
        "XX=np.nan\n",
        "rho_ice=900\n",
        "rho_water=1000\n",
        "Re=6371000 # earth radius\n",
        "dh=1.5 # change in sea level\n",
        "ice_mass_loss_equiv_to_dh_Gt=XX/1.0e12\n",
        "print(\"mass loss in Gt corresponding to %3.3g meter of sea level rise: %3.3g Gt\"%(dh,ice_mass_loss_equiv_to_dh_Gt))\n",
        "\n",
        "# Currently, the Greenland ice sheet accumulates at a rate of 520 𝐺𝑡 per year,\n",
        "# and ablates (including runoff, basal melt and iceburg production) at a rate of 720 𝐺𝑡 per year,\n",
        "# yielding roughly 200 𝐺𝑡 per year of mass loss:\n",
        "\n",
        "current_accumulation_rate=520\n",
        "current_yearly_ablation_Gt=720\n",
        "# the needed ablation rate per year over the years until 2100 is therefore:\n",
        "needed_yearly_ablation_rate=XX\n",
        "\n",
        "acceration_factor=needed_yearly_ablation_rate/current_yearly_ablation_Gt\n",
        "print(\"needed acceleration factor is %3.3g\" %(acceration_factor))"
      ]
    },
    {
      "cell_type": "markdown",
      "metadata": {
        "id": "drnYnSPDbJE1"
      },
      "source": [
        "## 2) Positive Degree Days:\n",
        "\n",
        "\n",
        "### 2a) Calculate and plot PDD maps for Greenland and Antarctica for present-day, and for year 2100 based on temperature projection from the RCP 8.5 scenario."
      ]
    },
    {
      "cell_type": "code",
      "execution_count": null,
      "metadata": {
        "id": "IJiM8euDbJE1"
      },
      "outputs": [],
      "source": [
        "# calculate PDD maps for control and rcp85:\n",
        "pdd_map_control=np.sum((SAT_control-273.15)*(SAT_control>273.15),axis=0)\n",
        "pdd_map_rcp85=XX\n",
        "\n",
        "# apply masks for greenland and antarctica before plotting, so that ocean areas are not contoured too:\n",
        "pdd_map_greenland_control=pdd_map_control*(1.0*mask_landice_greenland_control)\n",
        "pdd_map_antarctica_control=XX\n",
        "pdd_map_greenland_rcp85=XX\n",
        "pdd_map_antarctica_rcp85=XX\n",
        "\n",
        "\n",
        "# plot Greenland present-day (control):\n",
        "# -------------------------------------\n",
        "lons, lats = np.meshgrid(lon, lat)\n",
        "fig = plt.figure(dpi=150)#figsize=(6, 4))\n",
        "ax = plt.axes(projection=ccrs.PlateCarree(central_longitude=0.0, globe=None))\n",
        "ax.set_extent([-70, -10, 50, 85], crs=ccrs.PlateCarree())\n",
        "ax.coastlines(resolution='110m')\n",
        "ax.gridlines()\n",
        "\n",
        "cls=10**np.arange(-3,3,0.4)\n",
        "c=plt.contourf(lons, lats, np.maximum(pdd_map_greenland_control,0.0001),levels=cls\\\n",
        "               ,transform=ccrs.PlateCarree()\n",
        "               ,norm=colors.LogNorm(min(cls),max(cls)), extend='both', cmap='RdBu_r')\n",
        "plt.xticks(np.arange(-60,0,20))\n",
        "plt.yticks(np.arange(50,90,10))\n",
        "plt.title('current PDD  (°C day)');\n",
        "plt.colorbar(c, shrink=0.7, pad=0.02)\n",
        "plt.pause(0.05)\n",
        "\n",
        "\n",
        "\n",
        "# plot Greenland RCP8.5:\n",
        "# ----------------------\n",
        "fig = plt.figure(dpi=150)#figsize=(6, 4))\n",
        "#XX"
      ]
    },
    {
      "cell_type": "code",
      "execution_count": null,
      "metadata": {
        "id": "C5ho7aiObJE2"
      },
      "outputs": [],
      "source": [
        "# plot Antarctica present day (control):\n",
        "# --------------------------------------\n",
        "fig = plt.figure(figsize=(3,3),dpi=200)\n",
        "ax = plt.axes(projection=ccrs.SouthPolarStereo(central_longitude=0.0, globe=None))\n",
        "ax.set_extent([0, 359.99999, -90, -60], crs=ccrs.PlateCarree())\n",
        "ax.coastlines(resolution='110m')\n",
        "ax.gridlines()\n",
        "cls=10**np.arange(-3,3,0.4)\n",
        "c=plt.contourf(lons, lats, np.maximum(pdd_map_antarctica_control,0.0001),levels=cls\\\n",
        "                         ,transform=ccrs.PlateCarree()\\\n",
        "                         ,norm=colors.LogNorm(min(cls),max(cls))\\\n",
        "                         ,extend='both', cmap='RdBu_r')\n",
        "plt.title('current PDD  (°C day)');\n",
        "cbar = plt.colorbar(c, shrink=1.0, pad=0.02);\n",
        "\n",
        "\n",
        "# plot Antarctica RCP8.5:\n",
        "# -----------------------\n",
        "fig = plt.figure(figsize=(3,3),dpi=200)\n",
        "#XX"
      ]
    },
    {
      "cell_type": "markdown",
      "metadata": {
        "id": "Dq46ZqpzbJE2"
      },
      "source": [
        "### 2b) Evaluate the expected acceleration of melt rate (assuming it is proportional to the PDD change), and the consequences to sea level rise."
      ]
    },
    {
      "cell_type": "code",
      "execution_count": null,
      "metadata": {
        "id": "WN2GTEwNbJE2"
      },
      "outputs": [],
      "source": [
        "# estimate total PDD over each ice sheet:\n",
        "\n",
        "pdd_total_greenland_control=np.sum(pdd_map_greenland_control,axis=(0,1))\n",
        "pdd_total_greenland_rcp85=XX\n",
        "pdd_total_antarctica_control=XX\n",
        "pdd_total_antarctica_rcp85=XX\n",
        "\n",
        "print(\"current summed pdd on greenland ice sheet: %3.3g\"%(pdd_total_greenland_control))\n",
        "print(\"future summed pdd on greenland ice sheet: %3.3g\"%(pdd_total_greenland_rcp85))\n",
        "print(\"current summed pdd on antarctica ice sheet: %3.3g\"%(pdd_total_antarctica_control))\n",
        "print(\"future summed pdd on antarctica ice sheet: %3.3g\"%(pdd_total_antarctica_rcp85))\n",
        "print(\"PDD on greenland ice sheet is predicted to increase by a factor of %3.3g\"\\\n",
        "      %(XX))\n",
        "print(\"PDD on antarctica ice sheet is predictec to increase by a factor of %3.3g\"\\\n",
        "      %(XX))"
      ]
    },
    {
      "cell_type": "markdown",
      "metadata": {
        "id": "VdkHT75jbJE2"
      },
      "source": [
        "### 2c) Compare your results for Greenland and Antarctica to the above calculated con- sequences of acceleration of ice streams and discuss.\n",
        "\n",
        "XX"
      ]
    },
    {
      "cell_type": "markdown",
      "metadata": {
        "id": "_Xeb0E8IbJE2"
      },
      "source": [
        "## 3) Calving\n",
        "\n",
        "### 3a) Cliff instability: What is the highest cliff height H in Fig. 1b that allows the marked 45$^\\circ$ section to be stable.\n",
        "\n",
        "The projected gravity acceleration rate along the slope is $g\\sin(45^\\circ)=g/\\sqrt{2}$, and thus the down-slope force is $XX$. On the other hand, the maximum tangential stress can be supplied by the underneath ice shell is $XX$. Thus the secion will break if\n",
        "$$XX> XX\\\\$$\n",
        "or when\n",
        "$$L>XX$$"
      ]
    },
    {
      "cell_type": "code",
      "execution_count": null,
      "metadata": {
        "id": "pa589iQKbJE2"
      },
      "outputs": [],
      "source": [
        "# calculate here:\n",
        "tau_c=100000\n",
        "rho_ice=900\n",
        "rho_water=1000\n",
        "g=9.8\n",
        "print(\"max cliff height=\",XX)"
      ]
    },
    {
      "cell_type": "markdown",
      "metadata": {
        "id": "b2Dgg7S6bJE2"
      },
      "source": [
        "### 3b) Buoyancy forcing: What is the maximum protruding section length $L$ in Fig. 1c that can be stable to buoyancy forces.\n",
        "\n",
        "The density difference between water and ice gives rise to a net buoyancy force on a submerged iceberge. Following the notation in Fig. 1c, the net buoyancy force is $XX$. The maximum force that the ice can sustain is again $XX$. Thus the section will break if\n",
        "$$XX>XX$$\n",
        "or, when\n",
        "$$H>XX$$"
      ]
    },
    {
      "cell_type": "code",
      "execution_count": null,
      "metadata": {
        "id": "tTRXr-YvbJE2"
      },
      "outputs": [],
      "source": [
        "print(\"submerged shelf height=\",XX)"
      ]
    },
    {
      "cell_type": "markdown",
      "metadata": {
        "id": "RPDzRYDNbJE2"
      },
      "source": [
        "### 3c) Hydro-fracturing and buoyancy forcing:\n",
        "\n",
        "Consider grounded ice of height $H=2$ km, bordering with sea water such that the top of the ice is above sea level. Calculate the minimum depth of water $D$ that will lead to the flotation and therefore breakup of the ice, taking into account the adhesion to the rest of the ice via the yield stress $\\tau_c$. How would your answer change if there was a hydro-fracture extending to half the thickness of the ice? Let $L=150$ m be the distance from the crack to the ocean."
      ]
    },
    {
      "cell_type": "code",
      "execution_count": null,
      "metadata": {
        "id": "wGuKHqupbJE2"
      },
      "outputs": [],
      "source": []
    },
    {
      "cell_type": "markdown",
      "metadata": {
        "id": "z8PJlJGfbJE2"
      },
      "source": [
        "## 4) Basal hydrology\n",
        "\n",
        "### 4a) Basal temperature and melting:\n",
        "\n",
        "Calculate the basal temperature, and where rele- vant also the melt rate, given a surface ice temperature of Ts = −40C, geothermal heat flux of G = 0.07 W/m2 and an ice thicknesses of H = 1,2,3 km."
      ]
    },
    {
      "cell_type": "code",
      "execution_count": null,
      "metadata": {
        "id": "pdsxmqP7bJE3"
      },
      "outputs": [],
      "source": [
        "kappa_ice=2.2 # W/m/K\n",
        "G=0.07\n",
        "Ts=-40\n",
        "T_1km=XX\n",
        "T_2km=XX\n",
        "T_3km=XX\n",
        "print(\"Basal temperature is %3.2f C at the base of a 1-km thick ice shell.\"%(T_1km))\n",
        "print(\"Basal temperature is %3.2f C at the base of a 2-km thick ice shell.\"%(T_2km))\n",
        "print(\"Basal temperature is %3.2f C at the base of a 3-km thick ice shell.\"%(T_3km))"
      ]
    },
    {
      "cell_type": "markdown",
      "metadata": {
        "id": "U-41yejGbJE3"
      },
      "source": [
        "### 4a solution continued: calculate the basal melt rate\n",
        "\n",
        "The basal temperature of an ice shell of XX km thick is above freezing point and thus melting will occur.\n",
        "The melting rate is determined by the amount of geothermal heat flux that cannot be conducted upward while holding the basal temperature at the freezing point 273.15~K.\n",
        "$$M/L = XX$$\n",
        "\n",
        "and you need to convert this to m/year"
      ]
    },
    {
      "cell_type": "code",
      "execution_count": null,
      "metadata": {
        "id": "XFVsQM1ybJE3"
      },
      "outputs": [],
      "source": [
        "# calc melt rate:\n",
        "\n",
        "L=336000 # J/kg\n",
        "sectoyear=86400*365\n",
        "rho_ice=900\n",
        "M_XXkm=XX # m/year\n",
        "print(\"Basal melting rate is %3.2g m/year beneath a XX-km thick ice shell.\"%(M_XXkm))"
      ]
    },
    {
      "cell_type": "code",
      "execution_count": null,
      "metadata": {
        "id": "rtkHYh-FbJE3"
      },
      "outputs": [],
      "source": []
    }
  ],
  "metadata": {
    "kernelspec": {
      "display_name": "Python 3 (ipykernel)",
      "language": "python",
      "name": "python3"
    },
    "language_info": {
      "codemirror_mode": {
        "name": "ipython",
        "version": 3
      },
      "file_extension": ".py",
      "mimetype": "text/x-python",
      "name": "python",
      "nbconvert_exporter": "python",
      "pygments_lexer": "ipython3",
      "version": "3.9.13"
    },
    "colab": {
      "provenance": [],
      "include_colab_link": true
    }
  },
  "nbformat": 4,
  "nbformat_minor": 0
}